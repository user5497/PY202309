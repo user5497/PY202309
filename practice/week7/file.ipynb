{
 "cells": [
  {
   "cell_type": "code",
   "execution_count": 6,
   "id": "f269f184",
   "metadata": {},
   "outputs": [
    {
     "name": "stdout",
     "output_type": "stream",
     "text": [
      "1. 암호화, 2. 복호화 중 선택하세요: 2\n",
      "입력 파일 이름을 입력하세요: data_enc.txt\n",
      "출력 파일 이름을 입력하세요: data_dec.txt\n",
      "data_enc.txt --> data_dec.txt Finish to transform\n"
     ]
    }
   ],
   "source": [
    "choice = int(input(\"1. 암호화, 2. 복호화 중 선택하세요: \"))\n",
    "in_filename = input(\"입력 파일 이름을 입력하세요: \")\n",
    "out_filename = input(\"출력 파일 이름을 입력하세요: \")\n",
    "\n",
    "token_jump=0\n",
    "\n",
    "# 임호화할지 복호화할지 결정합니다. \n",
    "if choice== 1:\n",
    "    token_jump=100\n",
    "elif choice == 2:\n",
    "    token_jump = -100\n",
    "\n",
    "# 변환할 파일을 r로 엽니다. \n",
    "# 변환된 파일을 w로 작성합니다. \n",
    "in_fp = open(in_filename,\"r\",encoding=\"utf8\")\n",
    "out_fp = open(out_filename,\"w\",encoding=\"utf8\")\n",
    "\n",
    "in_lines=in_fp.readlines()\n",
    "\n",
    "# in_lines에서 하나씩 꺼내 암호화/복호화하는 역할을 합니다. \n",
    "for in_line in in_lines:\n",
    "    out_str=\"\"\n",
    "    # 0부터 in_line의 길이까지 반복합니다. \n",
    "    for i in range(0,len(in_line)):\n",
    "        ch = in_line[i] # 문자열 in_line을 하나씩 분해합니다. \n",
    "        ch_num = ord(ch)\n",
    "        ch_num = ch_num+token_jump\n",
    "        ch2 = chr(ch_num)\n",
    "        out_str = out_str+ch2\n",
    "        \n",
    "    out_fp.write(out_str)\n",
    "    \n",
    "out_fp.close()\n",
    "in_fp.close()\n",
    "print(\"%s --> %s Finish to transform\"%(in_filename,out_filename))"
   ]
  }
 ],
 "metadata": {
  "kernelspec": {
   "display_name": "Python 3 (ipykernel)",
   "language": "python",
   "name": "python3"
  },
  "language_info": {
   "codemirror_mode": {
    "name": "ipython",
    "version": 3
   },
   "file_extension": ".py",
   "mimetype": "text/x-python",
   "name": "python",
   "nbconvert_exporter": "python",
   "pygments_lexer": "ipython3",
   "version": "3.10.9"
  }
 },
 "nbformat": 4,
 "nbformat_minor": 5
}
