{
 "cells": [
  {
   "cell_type": "code",
   "execution_count": 9,
   "id": "f1cabb8f",
   "metadata": {},
   "outputs": [
    {
     "name": "stdout",
     "output_type": "stream",
     "text": [
      "What do you call a bear with no teeth? \n",
      "A gummy bear!\n"
     ]
    }
   ],
   "source": [
    "# \" \" 안에 문자열을 넣어 print한다, \\n을 사용해 줄을 바꾸었다.\n",
    "print(\"What do you call a bear with no teeth? \\nA gummy bear!\")"
   ]
  },
  {
   "cell_type": "code",
   "execution_count": 3,
   "id": "fa574506",
   "metadata": {},
   "outputs": [
    {
     "name": "stdout",
     "output_type": "stream",
     "text": [
      "Enter your name: Misoo\n",
      "Hello Misoo\n"
     ]
    }
   ],
   "source": [
    "# name에 input으로 사용자가 입력한 결과(이름)을 저장한다. \n",
    "name=input(\"Enter your name: \")\n",
    "# 문자열 Hello와 변수 name을 , 로 구분하여 print한다.\n",
    "print(\"Hello\", name)"
   ]
  },
  {
   "cell_type": "code",
   "execution_count": 4,
   "id": "76e9da32",
   "metadata": {},
   "outputs": [
    {
     "name": "stdout",
     "output_type": "stream",
     "text": [
      "Enter your name: Misoo\n",
      "Enter your last name: Kim\n",
      "Hello Misoo Kim\n"
     ]
    }
   ],
   "source": [
    "# 위 name과 차이를 두기 위해 name2에 이름을 저장한다. \n",
    "name2=input(\"Enter your name: \")\n",
    "last_name=input(\"Enter your last name: \")\n",
    "# 문자열 Hello와 변수들을 , 로 구분하여 print한다.\n",
    "print(\"Hello\",name2,last_name)"
   ]
  },
  {
   "cell_type": "code",
   "execution_count": 11,
   "id": "167de261",
   "metadata": {},
   "outputs": [
    {
     "name": "stdout",
     "output_type": "stream",
     "text": [
      "Enter the first number: 10\n",
      "Enter the second number:30\n",
      "10 + 30 = 40\n"
     ]
    }
   ],
   "source": [
    "# a와 b를 선언하면서, 그냥 input을 사용하면 type이 str이라 숫자로 더할 수 없기 때문에, \n",
    "# int로 type을 지정해준다.\n",
    "a=int(input(\"Enter the first number: \"))\n",
    "b=int(input(\"Enter the second number:\"))\n",
    "print(a,\"+\",b,\"=\",a+b)"
   ]
  },
  {
   "cell_type": "code",
   "execution_count": 13,
   "id": "c8eb6ad1",
   "metadata": {},
   "outputs": [
    {
     "name": "stdout",
     "output_type": "stream",
     "text": [
      "Enter the first number: 10\n",
      "Enter the second number: 20\n",
      "Enter the third number: 30\n",
      "10 + 20 * 30 = 610\n"
     ]
    }
   ],
   "source": [
    "#num 1,2,3을 input을 이용하고 int로 타입을 정해 선언한다.\n",
    "num1=int(input(\"Enter the first number: \"))\n",
    "num2=int(input(\"Enter the second number: \"))\n",
    "num3=int(input(\"Enter the third number: \"))\n",
    "# 계산 순서가 일반 사칙연산과 같기 때문에, 괄호를 사용하지는 않고 표현한다.\n",
    "print(num1,\"+\",num2,\"*\",num3,\"=\",num1+num2*num3)"
   ]
  },
  {
   "cell_type": "code",
   "execution_count": 18,
   "id": "7265fd24",
   "metadata": {},
   "outputs": [
    {
     "name": "stdout",
     "output_type": "stream",
     "text": [
      "Enter the number of slices of pizza you started with: 10\n",
      "How many slices have you eaten? 5\n",
      "You have 5 slicing remaning.\n"
     ]
    }
   ],
   "source": [
    "# 마이너스를 수행하기 위해 int를 사용해하여 input한다.\n",
    "pizza_sli=int(input(\"Enter the number of slices of pizza you started with: \"))\n",
    "eaten=int(input(\"How many slices have you eaten? \"))\n",
    "print(\"You have\",pizza_sli-eaten ,\"slicing remaning.\")"
   ]
  },
  {
   "cell_type": "code",
   "execution_count": 21,
   "id": "e55c46a3",
   "metadata": {},
   "outputs": [
    {
     "name": "stdout",
     "output_type": "stream",
     "text": [
      "What is your name? Misoo\n",
      "How old are you? 34\n",
      "Misoo next birthday you will be  35\n"
     ]
    }
   ],
   "source": [
    "# 문자인 name3는 그냥 input하였고, 나이는 int를 사용하여 선언하였다. ㅠ\n",
    "name3=input(\"What is your name? \")\n",
    "age=int(input(\"How old are you? \"))\n",
    "\n",
    "print(name3,\"next birthday you will be \",age+1)"
   ]
  },
  {
   "cell_type": "code",
   "execution_count": 23,
   "id": "aa72dd6d",
   "metadata": {},
   "outputs": [
    {
     "name": "stdout",
     "output_type": "stream",
     "text": [
      "What is the total cost of the bill? 5500\n",
      "How many people are there? 3\n",
      "Each person should pay 1833.3333333333333 won.\n"
     ]
    }
   ],
   "source": [
    "total_bill=int(input(\"What is the total cost of the bill? \"))\n",
    "people_num=int(input(\"How many people are there? \"))\n",
    "\n",
    "print(\"Each person should pay\", total_bill/people_num,\"won.\")"
   ]
  },
  {
   "cell_type": "code",
   "execution_count": null,
   "id": "8dbd47bd",
   "metadata": {},
   "outputs": [],
   "source": []
  }
 ],
 "metadata": {
  "kernelspec": {
   "display_name": "Python 3 (ipykernel)",
   "language": "python",
   "name": "python3"
  },
  "language_info": {
   "codemirror_mode": {
    "name": "ipython",
    "version": 3
   },
   "file_extension": ".py",
   "mimetype": "text/x-python",
   "name": "python",
   "nbconvert_exporter": "python",
   "pygments_lexer": "ipython3",
   "version": "3.10.9"
  }
 },
 "nbformat": 4,
 "nbformat_minor": 5
}
