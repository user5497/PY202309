{
 "cells": [
  {
   "cell_type": "code",
   "execution_count": 3,
   "id": "d207b2de",
   "metadata": {},
   "outputs": [
    {
     "name": "stdout",
     "output_type": "stream",
     "text": [
      "***Start Lotto\n",
      "Number:  6 15 17 32 33 35 "
     ]
    }
   ],
   "source": [
    "import random\n",
    "\n",
    "# 1부터 46까지 랜덤한 수를 선택하는 과정을 함수 get_number()에서 시행. \n",
    "def get_number():\n",
    "    return random.randrange(1,46)\n",
    "\n",
    "# lotto를 저장하기 위한 배열 생성. \n",
    "lotto=[]\n",
    "num=0\n",
    "print(\"***Start Lotto\")\n",
    "\n",
    "# 빠져나가기 전까지 계속 실행. \n",
    "while True:\n",
    "    # get_number()의 수를 num에 저장. \n",
    "    num=get_number()\n",
    "    \n",
    "    # random한 값이 lotto에 없을 경우 추가. \n",
    "    if lotto.count(num) == 0:\n",
    "        lotto.append(num)\n",
    "    \n",
    "    # lotto에 저장된 값의 수가 6개 이상이 되면 반복을 중지. \n",
    "    if len(lotto) >=6:\n",
    "        break\n",
    "        \n",
    "print(\"Number: \",end=' ')\n",
    "# 크기순으로 정렬. \n",
    "lotto.sort()\n",
    "for number in lotto:\n",
    "    print(number,end=' ')"
   ]
  }
 ],
 "metadata": {
  "kernelspec": {
   "display_name": "Python 3 (ipykernel)",
   "language": "python",
   "name": "python3"
  },
  "language_info": {
   "codemirror_mode": {
    "name": "ipython",
    "version": 3
   },
   "file_extension": ".py",
   "mimetype": "text/x-python",
   "name": "python",
   "nbconvert_exporter": "python",
   "pygments_lexer": "ipython3",
   "version": "3.10.9"
  }
 },
 "nbformat": 4,
 "nbformat_minor": 5
}
