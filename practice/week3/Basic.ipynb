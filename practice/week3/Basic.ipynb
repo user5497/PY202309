{
 "cells": [
  {
   "cell_type": "code",
   "execution_count": 3,
   "id": "200fa485",
   "metadata": {},
   "outputs": [
    {
     "name": "stdout",
     "output_type": "stream",
     "text": [
      "1. current list =  [30, 10, 20, 50, 40]\n",
      "2. append(60) =  [30, 10, 20, 50, 40, 60]\n",
      "3. item after pop() =  60\n",
      "4. list after pop() =  [30, 10, 20, 50, 40]\n",
      "5. after sort() =  [10, 20, 30, 40, 50]\n",
      "6. after reverse() =  [50, 40, 30, 20, 10]\n",
      "7. index for 20 =  3\n",
      "8. after insert(2,222) =  [50, 40, 222, 30, 20, 10]\n",
      "9. after remove(2,222) =  [50, 40, 30, 20, 10]\n",
      "10. after extend([100,200,100]) =  [50, 40, 30, 20, 10, 100, 200, 100]\n",
      "11. the number of 100 =  2\n"
     ]
    }
   ],
   "source": [
    "# 최초의 sample_list를 설정한다. \n",
    "sample_list =[30,10,20,50,40]\n",
    "print(\"1. current list = \", sample_list)\n",
    "\n",
    "# append를 이용해 sample_list의 맨 뒤에 60을 추가한다. \n",
    "sample_list.append(60)\n",
    "print(\"2. append(60) = \", sample_list)\n",
    "\n",
    "# pop을 이용하여 list의 맨 마지막 값인 60을 반환한다.\n",
    "# sample_list에서 60이 삭제된다.\n",
    "print(\"3. item after pop() = \", sample_list.pop())\n",
    "print(\"4. list after pop() = \",sample_list)\n",
    "\n",
    "# sort()를 이용해 오름차순으로 list 안의 수들을 정렬한다. \n",
    "sample_list.sort()\n",
    "print(\"5. after sort() = \",sample_list)\n",
    "\n",
    "# reverse()를 이용해 내림차순으로 list 안의 수들을 정렬한다. \n",
    "sample_list.reverse()\n",
    "print(\"6. after reverse() = \", sample_list)\n",
    "\n",
    "# index를 이용해 값 20이 있는 위치(index)인 3을 찾아낸다. \n",
    "print(\"7. index for 20 = \",sample_list.index(20))\n",
    "\n",
    "# insert를 이용해 2번 index에 222라는 값을 추가한다. \n",
    "sample_list.insert(2,222)\n",
    "print(\"8. after insert(2,222) = \",sample_list)\n",
    "\n",
    "# remove를 이용해 222라는 값을 제거한다. \n",
    "sample_list.remove(222)\n",
    "print(\"9. after remove(2,222) = \",sample_list)\n",
    "\n",
    "# 새로운 list인 new_list를 선언한다. \n",
    "# extend를 이용하여 기존의 sample_list의 맨 뒤에 new_list의 값들을 추가한다.\n",
    "new_list = [100,200,100]\n",
    "sample_list.extend(new_list)\n",
    "print(\"10. after extend([100,200,100]) = \",sample_list)\n",
    "\n",
    "# count()를 이용하여 sample_list에 있는 값 100의 개수를 세어 출력한다. \n",
    "print(\"11. the number of 100 = \",sample_list.count(100))"
   ]
  },
  {
   "cell_type": "code",
   "execution_count": null,
   "id": "446a852e",
   "metadata": {},
   "outputs": [],
   "source": [
    "import turtle\n",
    "t=turtle.Turtle()\n",
    "# list, radius_list를 선언한다.\n",
    "radius_list=[100,200,50]\n",
    "move=20\n",
    "\n",
    "t.shape(\"turtle\")\n",
    "\n",
    "# radius_list의 값들을 하나씩 꺼내어 반지름으로 삼아 원을 그린다.\n",
    "# t.circle을 이용해 반지름이 list에서 순서대로 꺼낸 값인 radius가 되도록 원을 그린다. \n",
    "for i in range(0,len(radius_list)):\n",
    "    radius = radius_list[i]\n",
    "    t.circle(radius)\n",
    "    t.fd(move)\n",
    "    \n",
    "turtle.done()\n",
    "try:\n",
    "    turtle.bye()\n",
    "except:\n",
    "    print(\"turtle bye\")"
   ]
  }
 ],
 "metadata": {
  "kernelspec": {
   "display_name": "Python 3 (ipykernel)",
   "language": "python",
   "name": "python3"
  },
  "language_info": {
   "codemirror_mode": {
    "name": "ipython",
    "version": 3
   },
   "file_extension": ".py",
   "mimetype": "text/x-python",
   "name": "python",
   "nbconvert_exporter": "python",
   "pygments_lexer": "ipython3",
   "version": "3.10.9"
  }
 },
 "nbformat": 4,
 "nbformat_minor": 5
}
