{
 "cells": [
  {
   "cell_type": "code",
   "execution_count": 4,
   "id": "6d12f4a4",
   "metadata": {},
   "outputs": [
    {
     "name": "stdout",
     "output_type": "stream",
     "text": [
      "turtle bye!\n"
     ]
    }
   ],
   "source": [
    "import turtle\n",
    "t=turtle.Turtle()\n",
    "t.left(90)\n",
    "\n",
    "# dic인 word_freq를 선언한다. \n",
    "word_freq={\"apple\":5,\"banana\":8, \"cherry\":2, \"grape\": 1}\n",
    "\n",
    "x=-200\n",
    "# word_freq 속 items들을 하나씩 가져와 반복한다. \n",
    "for word, freq in word_freq.items():\n",
    "    # penup()하여 지나가는 동안 선이 그어지지 않도록 한다. \n",
    "    # goto()를 이용하여 x,0으로 이동한다. \n",
    "    t.penup()\n",
    "    t.goto(x,0)\n",
    "    \n",
    "    t.write(f\"{word}:{freq}\",font={\"Arial\",12,\"normal\"})\n",
    "    \n",
    "    # goto를 이용하여 x,30으로 이동한다. \n",
    "    # pendown하여 지나간 길에 선이 남도록 한다. \n",
    "    t.goto(x,30)\n",
    "    t.pendown()\n",
    "    t.forward(freq*10)\n",
    "    \n",
    "    x+=100\n",
    "    \n",
    "turtle.done()\n",
    "try:\n",
    "    turtle.bye()\n",
    "except:\n",
    "    print(\"turtle bye!\")"
   ]
  }
 ],
 "metadata": {
  "kernelspec": {
   "display_name": "Python 3 (ipykernel)",
   "language": "python",
   "name": "python3"
  },
  "language_info": {
   "codemirror_mode": {
    "name": "ipython",
    "version": 3
   },
   "file_extension": ".py",
   "mimetype": "text/x-python",
   "name": "python",
   "nbconvert_exporter": "python",
   "pygments_lexer": "ipython3",
   "version": "3.10.9"
  }
 },
 "nbformat": 4,
 "nbformat_minor": 5
}
