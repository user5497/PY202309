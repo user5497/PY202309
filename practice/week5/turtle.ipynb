{
 "cells": [
  {
   "cell_type": "code",
   "execution_count": 3,
   "id": "c0edbb4a",
   "metadata": {},
   "outputs": [
    {
     "name": "stdout",
     "output_type": "stream",
     "text": [
      "turtle bye!\n"
     ]
    }
   ],
   "source": [
    "import turtle\n",
    "\n",
    "screen_width,screen_height=100,100\n",
    "\n",
    "# turtle을 사전설정합니다. \n",
    "\n",
    "# turtle의 제목을 설정합니다. \n",
    "turtle.title(\"Drawing rainbow circles\")\n",
    "# 선을 그리는 것의 모양을 설정합니다. \n",
    "turtle.shape(\"turtle\")\n",
    "# turtle이 그려지는 window사이즈를 설정합니다. \n",
    "turtle.setup(width=screen_width+50,height=screen_height+50)\n",
    "# penup()하여, goto로 이동하는 동안 선이 그려지지 않도록 합니다. \n",
    "turtle.penup()\n",
    "turtle.goto(0,-screen_height/2)\n",
    "# 다시 이동하는 동안 선이 그려지도록 합니다. \n",
    "turtle.pendown()\n",
    "# turtle의 속도를 설정합니다. \n",
    "turtle.speed(5)\n",
    "\n",
    "# for 문을 사용하여 radius의 값이 1부터 49까지 1씩 더해집니다. \n",
    "# radius에 7의 나눈 값을 기준으로 하여 turtle 펜의 색을 바꿉니다. \n",
    "# if-elif문을 사용하여 변하는 수들에 모두 대응합니다. \n",
    "for radius in range(1,50):\n",
    "    if radius % 7 == 0:\n",
    "        turtle.pencolor(\"red\")\n",
    "    elif radius % 7 == 1:\n",
    "        turtle.pencolor(\"orange\")\n",
    "    elif radius % 7 == 2:\n",
    "        turtle.pencolor(\"yellow\")\n",
    "    elif radius % 7 == 3:\n",
    "        turtle.pencolor(\"green\")\n",
    "    elif radius % 7 == 4:\n",
    "        turtle.pencolor(\"blue\")\n",
    "    elif radius % 7 == 5:\n",
    "        turtle.pencolor(\"navyblue\")\n",
    "    elif radius % 7 == 6:\n",
    "        turtle.pencolor(\"purple\")\n",
    "    \n",
    "    # for 문 안에 turtle.circle을 넣어 radius의 색이 달라 결과값이 달라질 때마다 원을 그리게 됩니다.   \n",
    "    turtle.circle(radius)\n",
    "\n",
    "# turtle을 빠져나갑니다.     \n",
    "turtle.done()\n",
    "\n",
    "try:\n",
    "    turtle.bye()\n",
    "except:\n",
    "    print(\"turtle bye!\")"
   ]
  }
 ],
 "metadata": {
  "kernelspec": {
   "display_name": "Python 3 (ipykernel)",
   "language": "python",
   "name": "python3"
  },
  "language_info": {
   "codemirror_mode": {
    "name": "ipython",
    "version": 3
   },
   "file_extension": ".py",
   "mimetype": "text/x-python",
   "name": "python",
   "nbconvert_exporter": "python",
   "pygments_lexer": "ipython3",
   "version": "3.10.9"
  }
 },
 "nbformat": 4,
 "nbformat_minor": 5
}
