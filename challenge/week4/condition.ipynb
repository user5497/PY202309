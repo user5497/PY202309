{
 "cells": [
  {
   "cell_type": "code",
   "execution_count": 7,
   "id": "1e4dfe81",
   "metadata": {
    "scrolled": true
   },
   "outputs": [
    {
     "name": "stdout",
     "output_type": "stream",
     "text": [
      "Is it raining? (Y/N) y\n",
      "Is it windy? (Y/N) nn\n",
      "incorrect input\n"
     ]
    }
   ],
   "source": [
    "# rain과 wind를 우선 입력받습니다. \n",
    "rain=input(\"Is it raining? (Y/N) \")\n",
    "wind=input(\"Is it windy? (Y/N) \")\n",
    "\n",
    "# rain과 wind가 만들어낼 수 있는 네 가지 경우의 수를 if, elif를 이용해 표현합니다. \n",
    "if rain == \"y\" and wind == \"y\":\n",
    "    print(\"It is too windy for an umbrella\")\n",
    "elif rain == \"y\" and wind ==\"n\":\n",
    "    print(\"Take and umbrella\")\n",
    "elif rain == \"n\" and wind ==\"y\":\n",
    "    print(\"Please take a coat\")\n",
    "elif rain==\"n\" and wind == \"n\":\n",
    "    print(\"Have a nice day\")\n",
    "    \n",
    "# 유저가 y와 n 이외의 값을 입력한 경우에 출력할 말을 설정합니다. \n",
    "else:\n",
    "    print(\"incorrect input\")"
   ]
  }
 ],
 "metadata": {
  "kernelspec": {
   "display_name": "Python 3 (ipykernel)",
   "language": "python",
   "name": "python3"
  },
  "language_info": {
   "codemirror_mode": {
    "name": "ipython",
    "version": 3
   },
   "file_extension": ".py",
   "mimetype": "text/x-python",
   "name": "python",
   "nbconvert_exporter": "python",
   "pygments_lexer": "ipython3",
   "version": "3.10.9"
  }
 },
 "nbformat": 4,
 "nbformat_minor": 5
}
