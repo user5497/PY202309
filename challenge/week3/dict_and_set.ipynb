{
 "cells": [
  {
   "cell_type": "code",
   "execution_count": 2,
   "id": "8d8bca5b",
   "metadata": {},
   "outputs": [
    {
     "name": "stdout",
     "output_type": "stream",
     "text": [
      "Enter English number ranging from 1 to 5three\n",
      "three is 삼\n"
     ]
    }
   ],
   "source": [
    "# 1부터 5까지 한글과 영어가 대응되는 dict를 선언한다. \n",
    "num_converter={\"one\":\"일\",\"two\":\"이\",\"three\":\"삼\",\"four\":\"사\",\"five\":\"오\"}\n",
    "# user에게 영어로 key를 입력받는다. \n",
    "user_num=input(\"Enter English number ranging from 1 to 5\")\n",
    "print(user_num,\"is\",num_converter[user_num])"
   ]
  },
  {
   "cell_type": "code",
   "execution_count": 3,
   "id": "028080da",
   "metadata": {},
   "outputs": [
    {
     "name": "stdout",
     "output_type": "stream",
     "text": [
      "Moving\n",
      "Name:  Moving / average:  4.0\n",
      "Name:  Mask Girl / average:  3.6666666666666665\n",
      "Name:  Oppenheimer / average:  3.3333333333333335\n"
     ]
    }
   ],
   "source": [
    "# dict인 ratings를 선언한다. \n",
    "ratings={\"Moving\":{\"Misoo\":4,\"Kwon\":3,\"Soo\":5},\n",
    "        \"Mask Girl\":{\"Misoo\":3,\"David\":4,\"Soo\":4},\n",
    "        \"Oppenheimer\":{\"Kwon\":3,\"Bob\":3,\"Davod\":4}}\n",
    "\n",
    "# movie_names에 list의 형태로 ratings의 keys를 저장한다. \n",
    "movie_names=list(ratings.keys())\n",
    "# score_list 1,2,3에 앞서 선언한 keys값들을 이용하여 values들을 list 형태로 만든다. \n",
    "score_list=list(ratings[movie_names[0]].values())\n",
    "score_list2=list(ratings[movie_names[1]].values())\n",
    "score_list3=list(ratings[movie_names[2]].values())\n",
    "\n",
    "# list로 저장되었기 때문에, list에서 사용하는 함수 sum(), len()을 이용하여 평균을 구한다. \n",
    "print(\"Name: \",movie_names[0],\"/ average: \", sum(score_list)/len(score_list))\n",
    "print(\"Name: \",movie_names[1],\"/ average: \", sum(score_list2)/len(score_list2))\n",
    "print(\"Name: \",movie_names[2],\"/ average: \", sum(score_list3)/len(score_list2))"
   ]
  },
  {
   "cell_type": "code",
   "execution_count": 4,
   "id": "ff8991df",
   "metadata": {},
   "outputs": [
    {
     "name": "stdout",
     "output_type": "stream",
     "text": [
      "Enter user1's 1st friend name: 철수\n",
      "Enter user1's 2nd friend name: 영수\n",
      "Enter user1's 3rd friend name: 영희\n",
      "Enter user2's 1st friend name: 철희\n",
      "Enter user2's 2nd friend name: 영수\n",
      "Enter user2's 3rd friend name: 동수\n",
      "All friends:  철희 영희 철수 영수 동수\n"
     ]
    }
   ],
   "source": [
    "# user1의 friends들을 저장하기 위해 friends라는 set()을 선언한다. \n",
    "friends=set()\n",
    "\n",
    "# .add를 이용하여 set()에 friend를 하나씩 추가한다. \n",
    "friends.add(input(\"Enter user1's 1st friend name: \"))\n",
    "friends.add(input(\"Enter user1's 2nd friend name: \"))\n",
    "friends.add(input(\"Enter user1's 3rd friend name: \"))\n",
    "\n",
    "# user2의 firends들을 저장하기 위한 user이라는 set()을 선언한다. \n",
    "user=set()\n",
    "\n",
    "# .add를 이용하여 set()에 friend를 하나씩 추가한다.\n",
    "user.add(input(\"Enter user2's 1st friend name: \"))\n",
    "user.add(input(\"Enter user2's 2nd friend name: \"))\n",
    "user.add(input(\"Enter user2's 3rd friend name: \"))\n",
    "\n",
    "# friends와 user를 union한 결과를 출력한다.  \n",
    "print(\"All friends: \",*(friends|user))"
   ]
  }
 ],
 "metadata": {
  "kernelspec": {
   "display_name": "Python 3 (ipykernel)",
   "language": "python",
   "name": "python3"
  },
  "language_info": {
   "codemirror_mode": {
    "name": "ipython",
    "version": 3
   },
   "file_extension": ".py",
   "mimetype": "text/x-python",
   "name": "python",
   "nbconvert_exporter": "python",
   "pygments_lexer": "ipython3",
   "version": "3.10.9"
  }
 },
 "nbformat": 4,
 "nbformat_minor": 5
}
