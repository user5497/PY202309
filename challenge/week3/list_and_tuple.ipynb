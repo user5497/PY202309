{
 "cells": [
  {
   "cell_type": "code",
   "execution_count": 2,
   "id": "c22a4191",
   "metadata": {},
   "outputs": [
    {
     "name": "stdout",
     "output_type": "stream",
     "text": [
      "Enter 1st number: 50\n",
      "Enter 2nd number: 40\n",
      "Enter 3rd number: 90\n",
      "Enter 4th number: 10\n",
      "Enter 5th number: 30\n",
      "max:  90\n",
      "min:  10\n",
      "average:  44.0\n"
     ]
    }
   ],
   "source": [
    "# list num을 []을 이용해 선언하고 num1부터 5까지 질문한다. \n",
    "num= []\n",
    "num1=int(input(\"Enter 1st number: \"))\n",
    "num2=int(input(\"Enter 2nd number: \"))\n",
    "num3=int(input(\"Enter 3rd number: \"))\n",
    "num4=int(input(\"Enter 4th number: \"))\n",
    "num5=int(input(\"Enter 5th number: \"))\n",
    "\n",
    "# 질문받은 값을 num의 맨 끝에 하나씩 추가한다. \n",
    "num.append(num1)\n",
    "num.append(num2)\n",
    "num.append(num3)\n",
    "num.append(num4)\n",
    "num.append(num5)\n",
    "\n",
    "# 함수 max, min을 이용하여 list num에서 가장 큰 수와 가장 작은 수를 구한다. \n",
    "print(\"max: \", max(num))\n",
    "print(\"min: \",min(num))\n",
    "# list num 안의 모든 값을 더하고 len으로 그 길이를 나누어 평균을 구한다. \n",
    "print(\"average: \",(num1+num2+num3+num4+num5)/len(num))"
   ]
  },
  {
   "cell_type": "code",
   "execution_count": 9,
   "id": "34f2ac0b",
   "metadata": {},
   "outputs": [
    {
     "name": "stdout",
     "output_type": "stream",
     "text": [
      "What is your favorite singer? Oh My Girl\n",
      "['BTS', 'Black Pink', 'Oh My Girl']\n"
     ]
    }
   ],
   "source": [
    "# 두 명의 가수가 포함된 singer list를 선언한다. \n",
    "singer=[\"BTS\",\"Black Pink\"]\n",
    "f_singer=input(\"What is your favorite singer? \")\n",
    "# input을 통해 얻은 가수의 이름을 append를 통해 singer의 맨 끝에 추가한다. \n",
    "singer.append(f_singer)\n",
    "# sort()를 이용해 이름순으로 정렬한다. \n",
    "singer.sort()\n",
    "print(singer)"
   ]
  },
  {
   "cell_type": "code",
   "execution_count": 1,
   "id": "369a87f7",
   "metadata": {},
   "outputs": [
    {
     "name": "stdout",
     "output_type": "stream",
     "text": [
      "('tennis', 'football', 'baseball', 'basketball')\n",
      "Please enter one of the sport name from above: football\n",
      "football has index number:  1\n",
      "Enter a number between 0 and 43\n",
      "basketball\n"
     ]
    }
   ],
   "source": [
    "# sports를 선언하고 제시한다. \n",
    "sports=(\"tennis\",\"football\",\"baseball\",\"basketball\")\n",
    "print(sports)\n",
    "\n",
    "# input을 이용해 제시된 것 중 사용자가 가장 좋아하는 스포츠의 이름을 제공받는다. \n",
    "# index()를 이용해 제공받은 sports의 index를 제공한다. \n",
    "f_sports=input(\"Please enter one of the sport name from above: \")\n",
    "print(f_sports, \"has index number: \",sports.index(f_sports))\n",
    "\n",
    "# input으로 사용자로부터 숫자를 지정받고 int로 정수로 한다.\n",
    "# 받은 number의 위치에 있는 sports를 출력한다. \n",
    "number=int(input(\"Enter a number between 0 and 4: \"))\n",
    "print(sports[number])"
   ]
  },
  {
   "cell_type": "code",
   "execution_count": null,
   "id": "5618d9ea",
   "metadata": {},
   "outputs": [],
   "source": [
    "Menu=(\"Americano\", \"Caffe Latte\", \"Cafe Mocha\",\"Iced Tea\")\n",
    "\n",
    "items=()\n",
    "item1=input(\"Enter the 1st item sold yesterday: \")\n",
    "item2=input(\"Enter the 2nd item sold yesterday: \")\n",
    "item3=input(\"Enter the 3rd item sold yesterday: \")\n",
    "item4=input(\"Enter the 4th item sold yesterday: \")\n",
    "item5=input(\"Enter the 5th item sold yesterday: \")\n",
    "\n",
    "today1=input(\"Enter the 1st item sold today: \")\n",
    "today2=input(\"Enter the 2nd item sold today: \")\n",
    "today3=input(\"Enter the 3rd item sold today: \")\n",
    "today4=input(\"Enter the 4th item sold today: \")\n",
    "today5=input(\"Enter the 5th item sold today: \")"
   ]
  }
 ],
 "metadata": {
  "kernelspec": {
   "display_name": "Python 3 (ipykernel)",
   "language": "python",
   "name": "python3"
  },
  "language_info": {
   "codemirror_mode": {
    "name": "ipython",
    "version": 3
   },
   "file_extension": ".py",
   "mimetype": "text/x-python",
   "name": "python",
   "nbconvert_exporter": "python",
   "pygments_lexer": "ipython3",
   "version": "3.10.9"
  }
 },
 "nbformat": 4,
 "nbformat_minor": 5
}
