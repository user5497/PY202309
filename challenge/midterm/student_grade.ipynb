{
 "cells": [
  {
   "cell_type": "markdown",
   "id": "5abd05fa",
   "metadata": {},
   "source": [
    "### 4. CSV-based grade manager"
   ]
  },
  {
   "cell_type": "code",
   "execution_count": 4,
   "id": "3ffa17bf",
   "metadata": {
    "scrolled": true
   },
   "outputs": [
    {
     "name": "stdout",
     "output_type": "stream",
     "text": [
      "-----학생들의 평균 점수-----\n",
      "실바의 평균 점수는 73.66666666666667입니다.\n",
      "산토스의 평균 점수는 86.93333333333334입니다.\n",
      "맥그리거의 평균 점수는 85.7입니다.\n",
      "알도의 평균 점수는 85.43333333333332입니다.\n",
      "로우지의 평균 점수는 83.10000000000001입니다.\n",
      "누네스의 평균 점수는 85.93333333333334입니다.\n"
     ]
    }
   ],
   "source": [
    "def loadData():\n",
    "    for line in lines:\n",
    "        tokens = line.strip().split(\",\")\n",
    "        scores[str(tokens[:1])] = tuple(tokens[1:]) \n",
    "\n",
    "\n",
    "def getAverage():\n",
    "    write_fp = open(\"average.txt\", \"w\",encoding = \"utf8\")\n",
    "    for name,score in scores.items(): \n",
    "        sum = 0\n",
    "        for num in score: \n",
    "             sum += float(num)\n",
    "        average = sum / len(score) \n",
    "        line = (f\"{name}의 평균 점수는 {average}입니다.\")\n",
    "        line = line.replace('[','').replace(']','').replace(\"'\", '')\n",
    "        print(line)\n",
    "        write_fp.write(str(line)+\"\\n\")\n",
    "    write_fp.close()\n",
    "    \n",
    "\n",
    "lines = open(\"students.csv\",\"r\", encoding=\"utf8\").readlines()\n",
    "del(lines[:1]) \n",
    "# TODO 1: 학생 정보를 딕셔너리에 저장\n",
    "scores={}\n",
    "loadData()\n",
    "\n",
    "# TODO 2: 학생 별 평균 점수를 계산\n",
    "print(\"-----학생들의 평균 점수-----\")\n",
    "getAverage()\n"
   ]
  }
 ],
 "metadata": {
  "kernelspec": {
   "display_name": "Python 3 (ipykernel)",
   "language": "python",
   "name": "python3"
  },
  "language_info": {
   "codemirror_mode": {
    "name": "ipython",
    "version": 3
   },
   "file_extension": ".py",
   "mimetype": "text/x-python",
   "name": "python",
   "nbconvert_exporter": "python",
   "pygments_lexer": "ipython3",
   "version": "3.10.9"
  }
 },
 "nbformat": 4,
 "nbformat_minor": 5
}
