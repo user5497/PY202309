{
 "cells": [
  {
   "cell_type": "code",
   "execution_count": 7,
   "id": "f88a25a7",
   "metadata": {
    "scrolled": true
   },
   "outputs": [
    {
     "name": "stdout",
     "output_type": "stream",
     "text": [
      "\n",
      "할일 관리 프로그램\n",
      "1. 할일 추가\n",
      "2. 할일 목록 표시\n",
      "3. 종료\n",
      "선택: 2\n",
      "수업하기\n",
      "\n",
      "강의자료만들기\n",
      "발표하기\n",
      "수업하기\n",
      "발표하기\n",
      "강의자료만들기\n",
      "\n",
      "할일 관리 프로그램\n",
      "1. 할일 추가\n",
      "2. 할일 목록 표시\n",
      "3. 종료\n",
      "선택: 3\n",
      "프로그램을 종료합니다.\n"
     ]
    }
   ],
   "source": [
    "#할 일을 추가합니다. \n",
    "def add_task(task_list,task):\n",
    "    task_list.append(task)\n",
    "\n",
    "# 할 일 목록을 보여줍니다. \n",
    "def display_tasks(task_list):\n",
    "    if not task_list:\n",
    "        print(\"할 일 목록이 없습니다. \")\n",
    "    else:\n",
    "        for task in task_list:\n",
    "            print(task)\n",
    "\n",
    "# 변경 사항들을 파일에 써 저장합니다. \n",
    "def save_tasks_to_file(task_list,filename):\n",
    "    # 파일에 간섭하기 위해 w 형태로 접근합니다. \n",
    "    task_fp=open(filename,\"w\",encoding=\"utf8\")\n",
    "    for task in task_list:\n",
    "        task_fp.write(task+\"\\n\")\n",
    "    task_fp.close()\n",
    "\n",
    "# 파일의 문장들을 가져옵니다. \n",
    "def load_tasks_from_file(filename):\n",
    "    task_list=[]\n",
    "    # 파일을 수정하지 않고 r 형태로 접근합니다. \n",
    "    task_fp=open(filename,\"r\",encoding=\"utf8\")\n",
    "    # 문장들을 하나씩 list에 저장하여 반환합니다. \n",
    "    lines=task_fp.readlines()\n",
    "    for line in lines:\n",
    "        task_list.append(line.strip()) # strip으로 좌우 간격을 삭제합니다. \n",
    "    return task_list\n",
    "\n",
    "\n",
    "file_name = \"task.txt\"\n",
    "task_list = load_tasks_from_file(file_name)\n",
    "\n",
    "while True:\n",
    "    print(\"\\n할일 관리 프로그램\")\n",
    "    print(\"1. 할일 추가\")\n",
    "    print(\"2. 할일 목록 표시\")\n",
    "    print(\"3. 종료\")\n",
    "\n",
    "    choice = input(\"선택: \")\n",
    "    \n",
    "    if choice == '1':\n",
    "        task = input(\"할일을 입력하세요: \")\n",
    "        add_task(task_list, task)\n",
    "        print(\"할일이 추가되었습니다.\")\n",
    "    elif choice == '2':\n",
    "        display_tasks(task_list)\n",
    "    elif choice == '3':\n",
    "        save_tasks_to_file(task_list, file_name)\n",
    "        print(\"프로그램을 종료합니다.\")\n",
    "        break\n",
    "    else:\n",
    "        print(\"잘못된 선택입니다. 다시 시도하세요.\")"
   ]
  }
 ],
 "metadata": {
  "kernelspec": {
   "display_name": "Python 3 (ipykernel)",
   "language": "python",
   "name": "python3"
  },
  "language_info": {
   "codemirror_mode": {
    "name": "ipython",
    "version": 3
   },
   "file_extension": ".py",
   "mimetype": "text/x-python",
   "name": "python",
   "nbconvert_exporter": "python",
   "pygments_lexer": "ipython3",
   "version": "3.10.9"
  }
 },
 "nbformat": 4,
 "nbformat_minor": 5
}
