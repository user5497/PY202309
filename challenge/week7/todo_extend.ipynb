{
 "cells": [
  {
   "cell_type": "code",
   "execution_count": 3,
   "id": "e7a5ca2e",
   "metadata": {
    "scrolled": true
   },
   "outputs": [
    {
     "name": "stdout",
     "output_type": "stream",
     "text": [
      "파일 이름을 입력하세요: ddd.txt\n",
      "파일이 없습니다.\n"
     ]
    }
   ],
   "source": [
    "# 할 일 리스트에 할 일을 추가합니다. \n",
    "def add_task(task_list, task):\n",
    "    task_list.append(task)\n",
    "\n",
    "# 할 일을 보여줍니다. \n",
    "def display_tasks(task_list):\n",
    "    if not task_list:\n",
    "        print(\"할일 목록이 비어 있습니다.\")\n",
    "    else:\n",
    "        print(\"할일 목록:\")\n",
    "        for i in range(len(task_list)):\n",
    "            task = task_list[i]\n",
    "            print(f\"{i+1}. {task}\")\n",
    "\n",
    "# 수정된 할 일 목록들을 파일에 저장합니다. \n",
    "def save_tasks_to_file(task_list, filename):\n",
    "    write_fp = open(filename, \"w\", encoding=\"utf\")\n",
    "    for task in task_list:\n",
    "        write_fp.write(task+\"\\n\")\n",
    "    write_fp.close()\n",
    "\n",
    "# 파일에서 문장들을 읽기 형태로 가져와 리스트로 저장합니다. \n",
    "def load_tasks_from_file(filename):\n",
    "    task_list = []\n",
    "    read_fp = open(filename, \"r\", encoding=\"utf8\")\n",
    "    lines = read_fp.readlines()\n",
    "    for line in lines:\n",
    "        task_list.append(line.strip())\n",
    "    return task_list\n",
    "\n",
    "\n",
    "# 사용자에게 파일 이름을 입력받습니다. \n",
    "file_name = input(\"파일 이름을 입력하세요: \")\n",
    "\n",
    "# 파일이 있을 경우 while문을 시행합니다. \n",
    "try:\n",
    "    task_list = load_tasks_from_file(file_name)\n",
    "    while True:\n",
    "        print(\"\\n할일 관리 프로그램\")\n",
    "        print(\"1. 할일 추가\")\n",
    "        print(\"2. 할일 목록 표시\")\n",
    "        print(\"3. 종료\")\n",
    "        choice = input(\"선택: \")\n",
    "        if choice == \"1\":\n",
    "            task = input(\"할일을 입력하세요: \")\n",
    "            add_task(task_list, task)\n",
    "            print(\"할일이 추가되었습니다.\")\n",
    "        elif choice == \"2\":\n",
    "            display_tasks(task_list)\n",
    "        elif choice == \"3\":\n",
    "            save_tasks_to_file(task_list, file_name)\n",
    "            print(\"프로그램을 종료합니다.\")\n",
    "            break\n",
    "        else:\n",
    "            print(\"잘못된 선택입니다. 다시 시도하세요.\")\n",
    "\n",
    "# 파일이 없을 경우 에러 없이 파일을 종료합니다. \n",
    "except:\n",
    "    print(\"파일이 없습니다.\")"
   ]
  }
 ],
 "metadata": {
  "kernelspec": {
   "display_name": "Python 3 (ipykernel)",
   "language": "python",
   "name": "python3"
  },
  "language_info": {
   "codemirror_mode": {
    "name": "ipython",
    "version": 3
   },
   "file_extension": ".py",
   "mimetype": "text/x-python",
   "name": "python",
   "nbconvert_exporter": "python",
   "pygments_lexer": "ipython3",
   "version": "3.10.9"
  }
 },
 "nbformat": 4,
 "nbformat_minor": 5
}
