{
 "cells": [
  {
   "cell_type": "code",
   "execution_count": 6,
   "id": "f4094d9c",
   "metadata": {},
   "outputs": [
    {
     "name": "stdout",
     "output_type": "stream",
     "text": [
      "#     2    ##     3    ##     4    ##     5    ##     6    ##     7    ##     8    ##     9    #\n",
      " 2 X  1 =  2 3 X  1 =  3 4 X  1 =  4 5 X  1 =  5 6 X  1 =  6 7 X  1 =  7 8 X  1 =  8 9 X  1 =  9\n",
      " 2 X  2 =  4 3 X  2 =  6 4 X  2 =  8 5 X  2 = 10 6 X  2 = 12 7 X  2 = 14 8 X  2 = 16 9 X  2 = 18\n",
      " 2 X  3 =  6 3 X  3 =  9 4 X  3 = 12 5 X  3 = 15 6 X  3 = 18 7 X  3 = 21 8 X  3 = 24 9 X  3 = 27\n",
      " 2 X  4 =  8 3 X  4 = 12 4 X  4 = 16 5 X  4 = 20 6 X  4 = 24 7 X  4 = 28 8 X  4 = 32 9 X  4 = 36\n",
      " 2 X  5 = 10 3 X  5 = 15 4 X  5 = 20 5 X  5 = 25 6 X  5 = 30 7 X  5 = 35 8 X  5 = 40 9 X  5 = 45\n",
      " 2 X  6 = 12 3 X  6 = 18 4 X  6 = 24 5 X  6 = 30 6 X  6 = 36 7 X  6 = 42 8 X  6 = 48 9 X  6 = 54\n",
      " 2 X  7 = 14 3 X  7 = 21 4 X  7 = 28 5 X  7 = 35 6 X  7 = 42 7 X  7 = 49 8 X  7 = 56 9 X  7 = 63\n",
      " 2 X  8 = 16 3 X  8 = 24 4 X  8 = 32 5 X  8 = 40 6 X  8 = 48 7 X  8 = 56 8 X  8 = 64 9 X  8 = 72\n",
      " 2 X  9 = 18 3 X  9 = 27 4 X  9 = 36 5 X  9 = 45 6 X  9 = 54 7 X  9 = 63 8 X  9 = 72 9 X  9 = 81\n"
     ]
    }
   ],
   "source": [
    "# 앞서 변수들을 선언합니다. \n",
    "i,k,guguLine = 1,1,\"\"\n",
    "\n",
    "# i가 9 미만일 때까지 guguLine에 값을 저장합니다. \n",
    "# 2부터 출력될 수 있도록 1을 우선적으로 더합니다. \n",
    "while i<9:\n",
    "    i+=1\n",
    "    guguLine = guguLine + (\"#     %d    #\"%i)\n",
    "        \n",
    "print(guguLine)\n",
    "\n",
    "# 앞선 while문으로 인해 값 9가 저장되어있는 i의 값을 1로 바꿉니다. \n",
    "# i가 9 미만일 때만 출력하며, i가 바뀔 때마다 guguLine을 초기화합니다.\n",
    "i=1\n",
    "while i<= 9:\n",
    "    guguLine = \"\"\n",
    "    # k가 9 미만일 때만 출력합니다. \n",
    "    # while문이 돌때마다 k의 값에 1씩 더해줍니다.  \n",
    "    while k < 9:\n",
    "        k+=1\n",
    "        guguLine = guguLine + str(\"%2d X %2d = %2d\"%(k,i,k*i))\n",
    "    # i에 값을 1씩 더해줍니다. \n",
    "    # k의 값이 8로 저장되어있어 올바르게 출력하기 위해 k의 값을 1로 바꿔줍니다. \n",
    "    i+=1\n",
    "    k=1\n",
    "    print(guguLine)"
   ]
  }
 ],
 "metadata": {
  "kernelspec": {
   "display_name": "Python 3 (ipykernel)",
   "language": "python",
   "name": "python3"
  },
  "language_info": {
   "codemirror_mode": {
    "name": "ipython",
    "version": 3
   },
   "file_extension": ".py",
   "mimetype": "text/x-python",
   "name": "python",
   "nbconvert_exporter": "python",
   "pygments_lexer": "ipython3",
   "version": "3.10.9"
  }
 },
 "nbformat": 4,
 "nbformat_minor": 5
}
